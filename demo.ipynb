{
 "cells": [
  {
   "cell_type": "markdown",
   "metadata": {
    "id": "6_yA6iPlklPQ"
   },
   "source": [
    "# Demo app classification"
   ]
  },
  {
   "cell_type": "code",
   "execution_count": null,
   "metadata": {
    "colab": {
     "base_uri": "https://localhost:8080/"
    },
    "executionInfo": {
     "elapsed": 45334,
     "status": "ok",
     "timestamp": 1756496069868,
     "user": {
      "displayName": "Pauline Huet",
      "userId": "06178126307493714227"
     },
     "user_tz": 0
    },
    "id": "Y5d8ULN8mKV9",
    "outputId": "489df657-cf4f-4b3d-def0-012650657cda"
   },
   "outputs": [
    {
     "name": "stdout",
     "output_type": "stream",
     "text": [
      "Mounted at /gdrive\n"
     ]
    }
   ],
   "source": [
    "# demo.ipynb\n",
    "!pip install -r requirements.txt\n",
    "import subprocess, threading, time, requests, os\n",
    "threading.Thread(\n",
    "    target=lambda: subprocess.run([\"python\", \"server.py\"], cwd=\".\"), daemon=True\n",
    ").start(); time.sleep(3)   # laisse le temps au serveur de démarrer\n",
    "\n",
    "# test local\n",
    "files = {\"image\": open(\"tests/goldfish-water-temperature-4271540239.jpg\", \"rb\")}\n",
    "print(requests.post(\"http://127.0.0.1:5000/predictImage\", files=files).json())"
   ]
  },
  {
   "cell_type": "markdown",
   "metadata": {
    "collapsed": false,
    "id": "kkFc2oRJklPQ"
   },
   "source": [
    "## Imports"
   ]
  }
 ],
 "metadata": {
  "accelerator": "GPU",
  "colab": {
   "gpuType": "T4",
   "provenance": [
    {
     "file_id": "https://github.com/madelezhia/cv-mwe/blob/main/lenet-mwe.ipynb",
     "timestamp": 1756483529434
    }
   ]
  },
  "kaggle": {
   "accelerator": "gpu",
   "dataSources": [
    {
     "databundleVersionId": 861823,
     "sourceId": 3004,
     "sourceType": "competition"
    }
   ],
   "dockerImageVersionId": 31012,
   "isGpuEnabled": true,
   "isInternetEnabled": true,
   "language": "python",
   "sourceType": "notebook"
  },
  "kernelspec": {
   "display_name": "Python 3",
   "name": "python3"
  },
  "language_info": {
   "codemirror_mode": {
    "name": "ipython",
    "version": 3
   },
   "file_extension": ".py",
   "mimetype": "text/x-python",
   "name": "python",
   "nbconvert_exporter": "python",
   "pygments_lexer": "ipython3",
   "version": "3.11.11"
  }
 },
 "nbformat": 4,
 "nbformat_minor": 0
}
