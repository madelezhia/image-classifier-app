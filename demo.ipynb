{
 "cells": [
  {
   "cell_type": "code",
   "execution_count": null,
   "metadata": {
    "colab": {
     "base_uri": "https://localhost:8080/"
    },
    "executionInfo": {
     "elapsed": 45334,
     "status": "ok",
     "timestamp": 1756496069868,
     "user": {
      "displayName": "Pauline Huet",
      "userId": "06178126307493714227"
     },
     "user_tz": 0
    },
    "id": "Y5d8ULN8mKV9",
    "outputId": "489df657-cf4f-4b3d-def0-012650657cda"
   },
   "outputs": [],
   "source": [
    "# demo.ipynb\n",
    "!git clone https://github.com/madelezhia/image-classifier-app.git\n",
    "#%cd image-classifier-app\n",
    "\n",
    "!pip install -q torch torchvision flask pillow pyngrok > /dev/null\n",
    "\n",
    "# lance Flask en arrière-plan\n",
    "get_ipython().system_raw('python server.py &')\n",
    "\n",
    "# ==========================\n",
    "# 3. Tunnel ngrok + Secret\n",
    "# ==========================\n",
    "from pyngrok import ngrok, conf\n",
    "import time, requests, os\n",
    "from google.colab import userdata   # accès aux Secrets\n",
    "\n",
    "ngrok.kill()\n",
    "\n",
    "try:\n",
    "    TOKEN = userdata.get(\"NGROK\")   # Secret nommé \"NGROK\"\n",
    "except Exception:\n",
    "    TOKEN = \"\"                      # pas de Secret → gratuit limité\n",
    "\n",
    "if TOKEN:\n",
    "    conf.get_default().auth_token = TOKEN\n",
    "\n",
    "time.sleep(3)                       # laisse Flask démarrer\n",
    "\n",
    "import socket, time\n",
    "for _ in range(10):          # 10 essais\n",
    "    try:\n",
    "        socket.create_connection((\"127.0.0.1\", 5000), timeout=1)\n",
    "        print(\"✔ Flask écoute sur 5000\")\n",
    "        break\n",
    "    except Exception as e:\n",
    "        print(\"⏳ attente Flask…\", e); time.sleep(2)\n",
    "else:\n",
    "    print(\"❌ Flask introuvable\"); raise RuntimeError(\"Flask ne s’est pas lancé\")\n",
    "\n",
    "http_tunnel = ngrok.connect(5000, \"http\")\n",
    "public_url = http_tunnel.public_url\n",
    "print(\"🌍 URL publique de la démo : \", public_url)\n",
    "\n",
    "# ==========================\n",
    "# 4. Test rapide\n",
    "# ==========================\n",
    "image_path = \"tests/pineapple-sits-table-with-other-fruits_726745-5475-3767101720.jpg\"\n",
    "with open(image_path, \"rb\") as f:\n",
    "    r = requests.post(f\"{public_url}/predictImage\", files={\"image\": (os.path.basename(image_path), f, \"image/jpeg\")})\n",
    "\n",
    "\n",
    "print(\"Status :\", r.status_code)\n",
    "print(\"Headers :\", r.headers)\n",
    "print(\"Text brut (200 car) :\", r.text[:200])\n",
    "\n",
    "if r.status_code == 200:\n",
    "    print(\"Réponse : \", r.json())\n",
    "else:\n",
    "    print(\"Error Response:\", r.text)\n",
    "\n",
    "print('📂  Image de test : tests/pineapple-sits-table-with-other-fruits_726745-5475-3767101720.jpg')\n"
   ]
  }
 ],
 "metadata": {
  "accelerator": "GPU",
  "colab": {
   "gpuType": "T4",
   "provenance": [
    {
     "file_id": "https://github.com/madelezhia/cv-mwe/blob/main/lenet-mwe.ipynb",
     "timestamp": 1756483529434
    }
   ]
  },
  "kaggle": {
   "accelerator": "gpu",
   "dataSources": [
    {
     "databundleVersionId": 861823,
     "sourceId": 3004,
     "sourceType": "competition"
    }
   ],
   "dockerImageVersionId": 31012,
   "isGpuEnabled": true,
   "isInternetEnabled": true,
   "language": "python",
   "sourceType": "notebook"
  },
  "kernelspec": {
   "display_name": "Python 3",
   "name": "python3"
  },
  "language_info": {
   "codemirror_mode": {
    "name": "ipython",
    "version": 3
   },
   "file_extension": ".py",
   "mimetype": "text/x-python",
   "name": "python",
   "nbconvert_exporter": "python",
   "pygments_lexer": "ipython3",
   "version": "3.11.11"
  }
 },
 "nbformat": 4,
 "nbformat_minor": 0
}
