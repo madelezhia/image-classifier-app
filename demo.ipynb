{
 "cells": [
  {
   "cell_type": "code",
   "execution_count": null,
   "metadata": {
    "colab": {
     "base_uri": "https://localhost:8080/"
    },
    "executionInfo": {
     "elapsed": 45334,
     "status": "ok",
     "timestamp": 1756496069868,
     "user": {
      "displayName": "Pauline Huet",
      "userId": "06178126307493714227"
     },
     "user_tz": 0
    },
    "id": "Y5d8ULN8mKV9",
    "outputId": "489df657-cf4f-4b3d-def0-012650657cda"
   },
   "outputs": [],
   "source": [
    "# demo.ipynb\n",
    "# ==========  CELLULE UNIQUE  ==========\n",
    "!pip install -q torch torchvision flask pillow pyngrok > /dev/null\n",
    "\n",
    "# télécharge une image exemple\n",
    "!mkdir -p tests && curl -sL -o tests/cat.jpg https://github.com/pytorch/hub/raw/master/images/cat.jpg\n",
    "\n",
    "# lance Flask en arrière-plan\n",
    "get_ipython().system_raw('python server.py &')\n",
    "\n",
    "# expose le port 5000\n",
    "from pyngrok import ngrok, conf\n",
    "conf.get_default().auth_token = None   # gratuit suffit\n",
    "url = ngrok.connect(5000).public_url\n",
    "print('🚀  App disponible ici :', url)\n",
    "print('📂  Image de test : tests/goldfish-water-temperature-4271540239.jpg')\n",
    "# ======================================\n"
   ]
  }
 ],
 "metadata": {
  "accelerator": "GPU",
  "colab": {
   "gpuType": "T4",
   "provenance": [
    {
     "file_id": "https://github.com/madelezhia/cv-mwe/blob/main/lenet-mwe.ipynb",
     "timestamp": 1756483529434
    }
   ]
  },
  "kaggle": {
   "accelerator": "gpu",
   "dataSources": [
    {
     "databundleVersionId": 861823,
     "sourceId": 3004,
     "sourceType": "competition"
    }
   ],
   "dockerImageVersionId": 31012,
   "isGpuEnabled": true,
   "isInternetEnabled": true,
   "language": "python",
   "sourceType": "notebook"
  },
  "kernelspec": {
   "display_name": "Python 3",
   "name": "python3"
  },
  "language_info": {
   "codemirror_mode": {
    "name": "ipython",
    "version": 3
   },
   "file_extension": ".py",
   "mimetype": "text/x-python",
   "name": "python",
   "nbconvert_exporter": "python",
   "pygments_lexer": "ipython3",
   "version": "3.11.11"
  }
 },
 "nbformat": 4,
 "nbformat_minor": 0
}
